{
 "cells": [
  {
   "cell_type": "code",
   "execution_count": 96,
   "id": "35852c65",
   "metadata": {},
   "outputs": [],
   "source": [
    "import re\n",
    "import numpy as np\n",
    "\n",
    "\n",
    "#12 red cubes, 13 green cubes, and 14 blue cubes\n",
    "\n",
    "def convert_draw(draw_string):\n",
    "    bluestr = re.findall(r'\\d+' ,re.findall(r'\\d+ blue', draw_string)[0])[0] if re.findall(r'\\d+ blue', draw_string) else '0'\n",
    "    greenstr = re.findall(r'\\d+' ,re.findall(r'\\d+ green', draw_string)[0])[0] if re.findall(r'\\d+ green', draw_string) else '0'\n",
    "    redstr = re.findall(r'\\d+' ,re.findall(r'\\d+ red', draw_string)[0])[0] if re.findall(r'\\d+ red', draw_string) else '0'\n",
    "\n",
    "    return (int(redstr), int(greenstr), int(bluestr))\n",
    "\n",
    "def is_possible_draw(draw_string):\n",
    "    cubes_drawn = convert_draw(draw_string)\n",
    "\n",
    "    if cubes_drawn[0] > 12:\n",
    "        return False\n",
    "    if cubes_drawn[1] > 13:\n",
    "        return False\n",
    "    if cubes_drawn[2] > 14:\n",
    "        return False\n",
    "    return True\n",
    "\n",
    "def is_possible_game(game_string):\n",
    "    draws = game_string.split(\"; \")\n",
    "    for draw_str in draws:\n",
    "        if is_possible_draw(draw_str) == False:\n",
    "            return False\n",
    "    return True\n",
    "\n",
    "def power_of_game(game_string):\n",
    "    min_red = 0\n",
    "    min_green = 0\n",
    "    min_blue = 0\n",
    "    draws = [convert_draw(draw) for draw in game_string.split(\"; \")]\n",
    "    for draw in draws:\n",
    "        min_red = max(min_red, draw[0])\n",
    "        min_green = max(min_green, draw[1])\n",
    "        min_blue = max(min_blue, draw[2])\n",
    "    return (min_red * min_green * min_blue)\n",
    "\n",
    "with open(\"input2.txt\") as f:\n",
    "    lines = f.read().split('\\n')[:-1]\n",
    "\n",
    "games = [line.split(': ')[1] for line in lines]\n",
    "ids = [line.split(': ')[0] for line in lines]\n",
    "ids = [int(re.findall(r'\\d+', id)[0]) for id in ids]\n"
   ]
  },
  {
   "cell_type": "code",
   "execution_count": 97,
   "metadata": {},
   "outputs": [
    {
     "data": {
      "text/plain": [
       "2486"
      ]
     },
     "execution_count": 97,
     "metadata": {},
     "output_type": "execute_result"
    }
   ],
   "source": [
    "id_sum = 0\n",
    "for id, game in zip(ids, games):\n",
    "    if is_possible_game(game) == True:\n",
    "        id_sum += id\n",
    "id_sum"
   ]
  },
  {
   "cell_type": "code",
   "execution_count": 98,
   "metadata": {},
   "outputs": [
    {
     "data": {
      "text/plain": [
       "87984"
      ]
     },
     "execution_count": 98,
     "metadata": {},
     "output_type": "execute_result"
    }
   ],
   "source": [
    "power_sum = 0\n",
    "for id, game in zip(ids, games):\n",
    "    #print(power_of_game(game))\n",
    "    power_sum += power_of_game(game)\n",
    "power_sum"
   ]
  },
  {
   "cell_type": "code",
   "execution_count": null,
   "metadata": {},
   "outputs": [],
   "source": []
  }
 ],
 "metadata": {
  "kernelspec": {
   "display_name": "Python 3 (ipykernel)",
   "language": "python",
   "name": "python3"
  },
  "language_info": {
   "codemirror_mode": {
    "name": "ipython",
    "version": 3
   },
   "file_extension": ".py",
   "mimetype": "text/x-python",
   "name": "python",
   "nbconvert_exporter": "python",
   "pygments_lexer": "ipython3",
   "version": "3.9.18"
  }
 },
 "nbformat": 4,
 "nbformat_minor": 5
}
