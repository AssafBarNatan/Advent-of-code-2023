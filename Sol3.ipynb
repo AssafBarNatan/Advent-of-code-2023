{
 "cells": [
  {
   "cell_type": "code",
   "execution_count": 62,
   "id": "35852c65",
   "metadata": {},
   "outputs": [],
   "source": [
    "import re\n",
    "import numpy as np\n",
    "\n",
    "# Find all numbers with non \".\" characters adjacent to them (diagonal is adjacent)\n",
    "\n",
    "with open(\"input3.txt\") as f:\n",
    "    lines = f.read().split('\\n')[:-1]\n",
    "\n",
    "lines.append('.'*len(lines[0]))\n",
    "lines = ['.'*len(lines[0])] + lines\n",
    "lines = ['.' + line + '.' for line in lines]"
   ]
  },
  {
   "cell_type": "code",
   "execution_count": 57,
   "metadata": {},
   "outputs": [
    {
     "data": {
      "text/plain": [
       "550064"
      ]
     },
     "execution_count": 57,
     "metadata": {},
     "output_type": "execute_result"
    }
   ],
   "source": [
    "digits = re.compile('\\d+')\n",
    "chars = re.compile('[^a-zA-Z\\d\\s:\\.]')\n",
    "\n",
    "\n",
    "sum = 0\n",
    "for ind, line in enumerate(lines):\n",
    "    nums = digits.finditer(line)\n",
    "    for num in nums:\n",
    "        #print(f'found number: {num.group()}, starting at index: {num.start()} and ending at index: {num.end()}')\n",
    "        surrounding_chars = lines[ind-1][num.start() - 1: num.end()+1] + lines[ind][num.start() - 1: num.end()+1] + lines[ind+1][num.start() - 1: num.end()+1]\n",
    "        if len(chars.findall(surrounding_chars)) > 0:\n",
    "            sum += int(num.group())\n",
    "            #print(num.group())\n",
    "sum\n"
   ]
  },
  {
   "cell_type": "code",
   "execution_count": 85,
   "metadata": {},
   "outputs": [
    {
     "data": {
      "text/plain": [
       "85010461"
      ]
     },
     "execution_count": 85,
     "metadata": {},
     "output_type": "execute_result"
    }
   ],
   "source": [
    "# For each star adjacent to exactly two numbers, multiply those numbers and add all the products.\n",
    "\n",
    "# First, find all numbers adjacent to stars and make a dictionary of star location to the number it's adjacent to. Then find the stars with two numbers and compute the rest.\n",
    "\n",
    "star_number_dict = {}\n",
    "for ind, line in enumerate(lines):\n",
    "    nums = digits.finditer(line)\n",
    "    for num in nums:\n",
    "        #print(f'found number: {num.group()}, starting at index: {num.start()} and ending at index: {num.end()}')\n",
    "        for i in range(ind-1, ind + 2):\n",
    "            for j in range(num.start()-1, num.end() + 1):\n",
    "                #print(f'i: {i} and j: {j} and char is: {lines[i][j]}')\n",
    "                if lines[i][j] == \"*\":\n",
    "                    if (i,j) in star_number_dict.keys():\n",
    "                        star_number_dict[(i,j)].append(int(num.group()))\n",
    "                    else:\n",
    "                        star_number_dict[(i,j)] = [int(num.group())]\n",
    "star_number_dict\n",
    "\n",
    "sum = 0\n",
    "for star in star_number_dict.keys():\n",
    "    if len(star_number_dict[star]) == 2:\n",
    "        sum += star_number_dict[star][0]*star_number_dict[star][1]\n",
    "\n",
    "sum"
   ]
  }
 ],
 "metadata": {
  "kernelspec": {
   "display_name": "Python 3 (ipykernel)",
   "language": "python",
   "name": "python3"
  },
  "language_info": {
   "codemirror_mode": {
    "name": "ipython",
    "version": 3
   },
   "file_extension": ".py",
   "mimetype": "text/x-python",
   "name": "python",
   "nbconvert_exporter": "python",
   "pygments_lexer": "ipython3",
   "version": "3.9.18"
  }
 },
 "nbformat": 4,
 "nbformat_minor": 5
}
