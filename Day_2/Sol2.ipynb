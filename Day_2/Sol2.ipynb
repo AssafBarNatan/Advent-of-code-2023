{
 "cells": [
  {
   "cell_type": "code",
   "execution_count": 1,
   "id": "35852c65",
   "metadata": {},
   "outputs": [
    {
     "name": "stdout",
     "output_type": "stream",
     "text": [
      "54390\n"
     ]
    }
   ],
   "source": [
    "import re\n",
    "import numpy as np\n",
    "\n",
    "with open(\"input1.txt\") as f:\n",
    "    codes = f.read().split('\\n')[:-1]\n",
    "\n",
    "sum = 0\n",
    "for code in codes:\n",
    "    digits = re.findall(r'\\d', code)\n",
    "    sum += 10*int(digits[0]) + int(digits[-1])\n",
    "    \n",
    "print(sum)"
   ]
  },
  {
   "cell_type": "code",
   "execution_count": 2,
   "id": "f8ede005",
   "metadata": {},
   "outputs": [],
   "source": [
    "number_words = [\"zero\", \"one\", \"two\", \"three\", \"four\", \"five\", \"six\", \"seven\", \"eight\", \"nine\"]\n",
    "words_to_nums = dict(zip(number_words, range(10)))\n",
    "number_str = [str(i) for i in range(10)]"
   ]
  },
  {
   "cell_type": "code",
   "execution_count": 3,
   "id": "541cc9fd",
   "metadata": {},
   "outputs": [
    {
     "name": "stdout",
     "output_type": "stream",
     "text": [
      "54277\n"
     ]
    }
   ],
   "source": [
    "total = 0\n",
    "\n",
    "for code in codes:\n",
    "    numbers_in_code = [0]*len(code)\n",
    "    for word in number_words:\n",
    "        regex = re.compile(word)\n",
    "        for match in regex.finditer(code):\n",
    "            numbers_in_code[match.start()] = words_to_nums[match.group()]\n",
    "    for word in number_str:\n",
    "        regex = re.compile(word)\n",
    "        for match in regex.finditer(code):\n",
    "            numbers_in_code[match.start()] = int(match.group())\n",
    "    digits = [x for x in numbers_in_code if x > 0]\n",
    "    total += 10*int(digits[0]) + int(digits[-1])\n",
    "print(total)"
   ]
  },
  {
   "cell_type": "code",
   "execution_count": null,
   "id": "83114bdc",
   "metadata": {},
   "outputs": [],
   "source": []
  }
 ],
 "metadata": {
  "kernelspec": {
   "display_name": "Python 3 (ipykernel)",
   "language": "python",
   "name": "python3"
  },
  "language_info": {
   "codemirror_mode": {
    "name": "ipython",
    "version": 3
   },
   "file_extension": ".py",
   "mimetype": "text/x-python",
   "name": "python",
   "nbconvert_exporter": "python",
   "pygments_lexer": "ipython3",
   "version": "3.11.4"
  }
 },
 "nbformat": 4,
 "nbformat_minor": 5
}
