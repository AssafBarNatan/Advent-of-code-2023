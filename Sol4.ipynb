{
 "cells": [
  {
   "cell_type": "code",
   "execution_count": 13,
   "id": "35852c65",
   "metadata": {},
   "outputs": [
    {
     "data": {
      "text/plain": [
       "22686.0"
      ]
     },
     "execution_count": 13,
     "metadata": {},
     "output_type": "execute_result"
    }
   ],
   "source": [
    "import re\n",
    "import numpy as np\n",
    "\n",
    "# Find all numbers with non \".\" characters adjacent to them (diagonal is adjacent)\n",
    "\n",
    "with open(\"input4.txt\") as f:\n",
    "    lines = f.read().split('\\n')[:-1]\n",
    "\n",
    "cards = [line.split(': ')[1] for line in lines]\n",
    "\n",
    "def get_prize(card):\n",
    "    winning_nums = card.split(' | ')[0].split(' ')\n",
    "    winning_nums = [int(x) for x in winning_nums if len(x) > 0]\n",
    "\n",
    "    guesses = card.split(' | ')[1].split(' ')\n",
    "    guesses = [int(x) for x in guesses if len(x) > 0]\n",
    "\n",
    "    return get_prize_from_lists(winning_nums, guesses)\n",
    "\n",
    "def get_prize_from_lists(winning_numbers, guesses):\n",
    "    prize = 0\n",
    "    for guess in guesses:\n",
    "        if guess in winning_numbers:\n",
    "            prize += 1\n",
    "    \n",
    "    if prize == 0:\n",
    "        return 0\n",
    "    return prize\n",
    "\n",
    "total = 0\n",
    "for card in cards:    \n",
    "    total += 2**(get_prize(card)-1)\n",
    "    \n",
    "total"
   ]
  },
  {
   "cell_type": "code",
   "execution_count": 22,
   "metadata": {},
   "outputs": [
    {
     "data": {
      "text/plain": [
       "5747443"
      ]
     },
     "execution_count": 22,
     "metadata": {},
     "output_type": "execute_result"
    }
   ],
   "source": [
    "with open(\"input4.txt\") as f:\n",
    "    lines = f.read().split('\\n')[:-1]\n",
    "\n",
    "cards = [line.split(': ')[1] for line in lines]\n",
    "wins = [get_prize(card) for card in cards]\n",
    "\n",
    "descendants = [0]* len(cards)\n",
    "for ind, card in enumerate(cards[::-1]):\n",
    "    descendants[ind] += 1\n",
    "    for j in range(1, get_prize(card)+1):\n",
    "        descendants[ind] += descendants[ind - j]\n",
    "sum(descendants)"
   ]
  }
 ],
 "metadata": {
  "kernelspec": {
   "display_name": "Python 3 (ipykernel)",
   "language": "python",
   "name": "python3"
  },
  "language_info": {
   "codemirror_mode": {
    "name": "ipython",
    "version": 3
   },
   "file_extension": ".py",
   "mimetype": "text/x-python",
   "name": "python",
   "nbconvert_exporter": "python",
   "pygments_lexer": "ipython3",
   "version": "3.9.18"
  }
 },
 "nbformat": 4,
 "nbformat_minor": 5
}
